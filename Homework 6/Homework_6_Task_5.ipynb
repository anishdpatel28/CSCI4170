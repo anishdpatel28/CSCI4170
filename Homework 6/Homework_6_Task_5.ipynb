{
  "nbformat": 4,
  "nbformat_minor": 0,
  "metadata": {
    "colab": {
      "provenance": []
    },
    "kernelspec": {
      "name": "python3",
      "display_name": "Python 3"
    },
    "language_info": {
      "name": "python"
    },
    "widgets": {
      "application/vnd.jupyter.widget-state+json": {
        "f45325934ee34b38a3cc31ad6d767beb": {
          "model_module": "@jupyter-widgets/controls",
          "model_name": "HBoxModel",
          "model_module_version": "1.5.0",
          "state": {
            "_dom_classes": [],
            "_model_module": "@jupyter-widgets/controls",
            "_model_module_version": "1.5.0",
            "_model_name": "HBoxModel",
            "_view_count": null,
            "_view_module": "@jupyter-widgets/controls",
            "_view_module_version": "1.5.0",
            "_view_name": "HBoxView",
            "box_style": "",
            "children": [
              "IPY_MODEL_07392eb8f05f40fdad96da5d33c46137",
              "IPY_MODEL_5408ea837c184f96a524c93b08ebd1b8",
              "IPY_MODEL_27f63f3633a44de3b384886873e3d7e7"
            ],
            "layout": "IPY_MODEL_b8e2f4127c5a471d96ec2dcd9b9b2146"
          }
        },
        "07392eb8f05f40fdad96da5d33c46137": {
          "model_module": "@jupyter-widgets/controls",
          "model_name": "HTMLModel",
          "model_module_version": "1.5.0",
          "state": {
            "_dom_classes": [],
            "_model_module": "@jupyter-widgets/controls",
            "_model_module_version": "1.5.0",
            "_model_name": "HTMLModel",
            "_view_count": null,
            "_view_module": "@jupyter-widgets/controls",
            "_view_module_version": "1.5.0",
            "_view_name": "HTMLView",
            "description": "",
            "description_tooltip": null,
            "layout": "IPY_MODEL_2aac17eaa49e483f993cb1af3525f677",
            "placeholder": "​",
            "style": "IPY_MODEL_3f48299a21ae4c8db7f1f1ecf9571d3f",
            "value": "100%"
          }
        },
        "5408ea837c184f96a524c93b08ebd1b8": {
          "model_module": "@jupyter-widgets/controls",
          "model_name": "FloatProgressModel",
          "model_module_version": "1.5.0",
          "state": {
            "_dom_classes": [],
            "_model_module": "@jupyter-widgets/controls",
            "_model_module_version": "1.5.0",
            "_model_name": "FloatProgressModel",
            "_view_count": null,
            "_view_module": "@jupyter-widgets/controls",
            "_view_module_version": "1.5.0",
            "_view_name": "ProgressView",
            "bar_style": "success",
            "description": "",
            "description_tooltip": null,
            "layout": "IPY_MODEL_fed14c7c95034f308af7c097c1eefb43",
            "max": 20,
            "min": 0,
            "orientation": "horizontal",
            "style": "IPY_MODEL_1290a497f47b49afa970f317e43ba0ab",
            "value": 20
          }
        },
        "27f63f3633a44de3b384886873e3d7e7": {
          "model_module": "@jupyter-widgets/controls",
          "model_name": "HTMLModel",
          "model_module_version": "1.5.0",
          "state": {
            "_dom_classes": [],
            "_model_module": "@jupyter-widgets/controls",
            "_model_module_version": "1.5.0",
            "_model_name": "HTMLModel",
            "_view_count": null,
            "_view_module": "@jupyter-widgets/controls",
            "_view_module_version": "1.5.0",
            "_view_name": "HTMLView",
            "description": "",
            "description_tooltip": null,
            "layout": "IPY_MODEL_623cf60bfa1e4772b04af3987f39f734",
            "placeholder": "​",
            "style": "IPY_MODEL_8d877836b9c04e239ded2df970950267",
            "value": " 20/20 [00:04&lt;00:00,  4.61it/s]"
          }
        },
        "b8e2f4127c5a471d96ec2dcd9b9b2146": {
          "model_module": "@jupyter-widgets/base",
          "model_name": "LayoutModel",
          "model_module_version": "1.2.0",
          "state": {
            "_model_module": "@jupyter-widgets/base",
            "_model_module_version": "1.2.0",
            "_model_name": "LayoutModel",
            "_view_count": null,
            "_view_module": "@jupyter-widgets/base",
            "_view_module_version": "1.2.0",
            "_view_name": "LayoutView",
            "align_content": null,
            "align_items": null,
            "align_self": null,
            "border": null,
            "bottom": null,
            "display": null,
            "flex": null,
            "flex_flow": null,
            "grid_area": null,
            "grid_auto_columns": null,
            "grid_auto_flow": null,
            "grid_auto_rows": null,
            "grid_column": null,
            "grid_gap": null,
            "grid_row": null,
            "grid_template_areas": null,
            "grid_template_columns": null,
            "grid_template_rows": null,
            "height": null,
            "justify_content": null,
            "justify_items": null,
            "left": null,
            "margin": null,
            "max_height": null,
            "max_width": null,
            "min_height": null,
            "min_width": null,
            "object_fit": null,
            "object_position": null,
            "order": null,
            "overflow": null,
            "overflow_x": null,
            "overflow_y": null,
            "padding": null,
            "right": null,
            "top": null,
            "visibility": null,
            "width": null
          }
        },
        "2aac17eaa49e483f993cb1af3525f677": {
          "model_module": "@jupyter-widgets/base",
          "model_name": "LayoutModel",
          "model_module_version": "1.2.0",
          "state": {
            "_model_module": "@jupyter-widgets/base",
            "_model_module_version": "1.2.0",
            "_model_name": "LayoutModel",
            "_view_count": null,
            "_view_module": "@jupyter-widgets/base",
            "_view_module_version": "1.2.0",
            "_view_name": "LayoutView",
            "align_content": null,
            "align_items": null,
            "align_self": null,
            "border": null,
            "bottom": null,
            "display": null,
            "flex": null,
            "flex_flow": null,
            "grid_area": null,
            "grid_auto_columns": null,
            "grid_auto_flow": null,
            "grid_auto_rows": null,
            "grid_column": null,
            "grid_gap": null,
            "grid_row": null,
            "grid_template_areas": null,
            "grid_template_columns": null,
            "grid_template_rows": null,
            "height": null,
            "justify_content": null,
            "justify_items": null,
            "left": null,
            "margin": null,
            "max_height": null,
            "max_width": null,
            "min_height": null,
            "min_width": null,
            "object_fit": null,
            "object_position": null,
            "order": null,
            "overflow": null,
            "overflow_x": null,
            "overflow_y": null,
            "padding": null,
            "right": null,
            "top": null,
            "visibility": null,
            "width": null
          }
        },
        "3f48299a21ae4c8db7f1f1ecf9571d3f": {
          "model_module": "@jupyter-widgets/controls",
          "model_name": "DescriptionStyleModel",
          "model_module_version": "1.5.0",
          "state": {
            "_model_module": "@jupyter-widgets/controls",
            "_model_module_version": "1.5.0",
            "_model_name": "DescriptionStyleModel",
            "_view_count": null,
            "_view_module": "@jupyter-widgets/base",
            "_view_module_version": "1.2.0",
            "_view_name": "StyleView",
            "description_width": ""
          }
        },
        "fed14c7c95034f308af7c097c1eefb43": {
          "model_module": "@jupyter-widgets/base",
          "model_name": "LayoutModel",
          "model_module_version": "1.2.0",
          "state": {
            "_model_module": "@jupyter-widgets/base",
            "_model_module_version": "1.2.0",
            "_model_name": "LayoutModel",
            "_view_count": null,
            "_view_module": "@jupyter-widgets/base",
            "_view_module_version": "1.2.0",
            "_view_name": "LayoutView",
            "align_content": null,
            "align_items": null,
            "align_self": null,
            "border": null,
            "bottom": null,
            "display": null,
            "flex": null,
            "flex_flow": null,
            "grid_area": null,
            "grid_auto_columns": null,
            "grid_auto_flow": null,
            "grid_auto_rows": null,
            "grid_column": null,
            "grid_gap": null,
            "grid_row": null,
            "grid_template_areas": null,
            "grid_template_columns": null,
            "grid_template_rows": null,
            "height": null,
            "justify_content": null,
            "justify_items": null,
            "left": null,
            "margin": null,
            "max_height": null,
            "max_width": null,
            "min_height": null,
            "min_width": null,
            "object_fit": null,
            "object_position": null,
            "order": null,
            "overflow": null,
            "overflow_x": null,
            "overflow_y": null,
            "padding": null,
            "right": null,
            "top": null,
            "visibility": null,
            "width": null
          }
        },
        "1290a497f47b49afa970f317e43ba0ab": {
          "model_module": "@jupyter-widgets/controls",
          "model_name": "ProgressStyleModel",
          "model_module_version": "1.5.0",
          "state": {
            "_model_module": "@jupyter-widgets/controls",
            "_model_module_version": "1.5.0",
            "_model_name": "ProgressStyleModel",
            "_view_count": null,
            "_view_module": "@jupyter-widgets/base",
            "_view_module_version": "1.2.0",
            "_view_name": "StyleView",
            "bar_color": null,
            "description_width": ""
          }
        },
        "623cf60bfa1e4772b04af3987f39f734": {
          "model_module": "@jupyter-widgets/base",
          "model_name": "LayoutModel",
          "model_module_version": "1.2.0",
          "state": {
            "_model_module": "@jupyter-widgets/base",
            "_model_module_version": "1.2.0",
            "_model_name": "LayoutModel",
            "_view_count": null,
            "_view_module": "@jupyter-widgets/base",
            "_view_module_version": "1.2.0",
            "_view_name": "LayoutView",
            "align_content": null,
            "align_items": null,
            "align_self": null,
            "border": null,
            "bottom": null,
            "display": null,
            "flex": null,
            "flex_flow": null,
            "grid_area": null,
            "grid_auto_columns": null,
            "grid_auto_flow": null,
            "grid_auto_rows": null,
            "grid_column": null,
            "grid_gap": null,
            "grid_row": null,
            "grid_template_areas": null,
            "grid_template_columns": null,
            "grid_template_rows": null,
            "height": null,
            "justify_content": null,
            "justify_items": null,
            "left": null,
            "margin": null,
            "max_height": null,
            "max_width": null,
            "min_height": null,
            "min_width": null,
            "object_fit": null,
            "object_position": null,
            "order": null,
            "overflow": null,
            "overflow_x": null,
            "overflow_y": null,
            "padding": null,
            "right": null,
            "top": null,
            "visibility": null,
            "width": null
          }
        },
        "8d877836b9c04e239ded2df970950267": {
          "model_module": "@jupyter-widgets/controls",
          "model_name": "DescriptionStyleModel",
          "model_module_version": "1.5.0",
          "state": {
            "_model_module": "@jupyter-widgets/controls",
            "_model_module_version": "1.5.0",
            "_model_name": "DescriptionStyleModel",
            "_view_count": null,
            "_view_module": "@jupyter-widgets/base",
            "_view_module_version": "1.2.0",
            "_view_name": "StyleView",
            "description_width": ""
          }
        }
      }
    }
  },
  "cells": [
    {
      "cell_type": "code",
      "source": [
        "!wget https://files.grouplens.org/datasets/movielens/ml-100k.zip"
      ],
      "metadata": {
        "id": "qkvyJtDdlY0c",
        "colab": {
          "base_uri": "https://localhost:8080/"
        },
        "outputId": "c4728922-cc57-4669-ccd1-fcd5ce2d696d"
      },
      "execution_count": 1,
      "outputs": [
        {
          "output_type": "stream",
          "name": "stdout",
          "text": [
            "--2025-04-01 03:49:07--  https://files.grouplens.org/datasets/movielens/ml-100k.zip\n",
            "Resolving files.grouplens.org (files.grouplens.org)... 128.101.65.152\n",
            "Connecting to files.grouplens.org (files.grouplens.org)|128.101.65.152|:443... connected.\n",
            "HTTP request sent, awaiting response... 200 OK\n",
            "Length: 4924029 (4.7M) [application/zip]\n",
            "Saving to: ‘ml-100k.zip.1’\n",
            "\n",
            "ml-100k.zip.1       100%[===================>]   4.70M  4.95MB/s    in 0.9s    \n",
            "\n",
            "2025-04-01 03:49:08 (4.95 MB/s) - ‘ml-100k.zip.1’ saved [4924029/4924029]\n",
            "\n"
          ]
        }
      ]
    },
    {
      "cell_type": "code",
      "source": [
        "!unzip ml-100k.zip -d ./ml-100k"
      ],
      "metadata": {
        "id": "1ETE32bHlatq",
        "colab": {
          "base_uri": "https://localhost:8080/"
        },
        "outputId": "4a6f82f1-6f9f-4d13-9ee4-595676b1476d"
      },
      "execution_count": 2,
      "outputs": [
        {
          "output_type": "stream",
          "name": "stdout",
          "text": [
            "Archive:  ml-100k.zip\n",
            "replace ./ml-100k/ml-100k/allbut.pl? [y]es, [n]o, [A]ll, [N]one, [r]ename: y\n",
            "  inflating: ./ml-100k/ml-100k/allbut.pl  \n",
            "replace ./ml-100k/ml-100k/mku.sh? [y]es, [n]o, [A]ll, [N]one, [r]ename: y\n",
            "  inflating: ./ml-100k/ml-100k/mku.sh  \n",
            "replace ./ml-100k/ml-100k/README? [y]es, [n]o, [A]ll, [N]one, [r]ename: y\n",
            "  inflating: ./ml-100k/ml-100k/README  \n",
            "replace ./ml-100k/ml-100k/u.data? [y]es, [n]o, [A]ll, [N]one, [r]ename: y\n",
            "  inflating: ./ml-100k/ml-100k/u.data  \n",
            "replace ./ml-100k/ml-100k/u.genre? [y]es, [n]o, [A]ll, [N]one, [r]ename: y\n",
            "  inflating: ./ml-100k/ml-100k/u.genre  \n",
            "replace ./ml-100k/ml-100k/u.info? [y]es, [n]o, [A]ll, [N]one, [r]ename: y\n",
            "  inflating: ./ml-100k/ml-100k/u.info  \n",
            "replace ./ml-100k/ml-100k/u.item? [y]es, [n]o, [A]ll, [N]one, [r]ename: y\n",
            "  inflating: ./ml-100k/ml-100k/u.item  \n",
            "replace ./ml-100k/ml-100k/u.occupation? [y]es, [n]o, [A]ll, [N]one, [r]ename: y\n",
            "  inflating: ./ml-100k/ml-100k/u.occupation  \n",
            "replace ./ml-100k/ml-100k/u.user? [y]es, [n]o, [A]ll, [N]one, [r]ename: y\n",
            "  inflating: ./ml-100k/ml-100k/u.user  \n",
            "replace ./ml-100k/ml-100k/u1.base? [y]es, [n]o, [A]ll, [N]one, [r]ename: y\n",
            "  inflating: ./ml-100k/ml-100k/u1.base  \n",
            "replace ./ml-100k/ml-100k/u1.test? [y]es, [n]o, [A]ll, [N]one, [r]ename: y\n",
            "  inflating: ./ml-100k/ml-100k/u1.test  \n",
            "replace ./ml-100k/ml-100k/u2.base? [y]es, [n]o, [A]ll, [N]one, [r]ename: y\n",
            "  inflating: ./ml-100k/ml-100k/u2.base  \n",
            "replace ./ml-100k/ml-100k/u2.test? [y]es, [n]o, [A]ll, [N]one, [r]ename: y\n",
            "  inflating: ./ml-100k/ml-100k/u2.test  \n",
            "replace ./ml-100k/ml-100k/u3.base? [y]es, [n]o, [A]ll, [N]one, [r]ename: y\n",
            "  inflating: ./ml-100k/ml-100k/u3.base  \n",
            "replace ./ml-100k/ml-100k/u3.test? [y]es, [n]o, [A]ll, [N]one, [r]ename: y\n",
            "  inflating: ./ml-100k/ml-100k/u3.test  \n",
            "replace ./ml-100k/ml-100k/u4.base? [y]es, [n]o, [A]ll, [N]one, [r]ename: y\n",
            "  inflating: ./ml-100k/ml-100k/u4.base  \n",
            "replace ./ml-100k/ml-100k/u4.test? [y]es, [n]o, [A]ll, [N]one, [r]ename: y\n",
            "  inflating: ./ml-100k/ml-100k/u4.test  \n",
            "replace ./ml-100k/ml-100k/u5.base? [y]es, [n]o, [A]ll, [N]one, [r]ename: y\n",
            "  inflating: ./ml-100k/ml-100k/u5.base  \n",
            "replace ./ml-100k/ml-100k/u5.test? [y]es, [n]o, [A]ll, [N]one, [r]ename: y\n",
            "  inflating: ./ml-100k/ml-100k/u5.test  \n",
            "replace ./ml-100k/ml-100k/ua.base? [y]es, [n]o, [A]ll, [N]one, [r]ename: y\n",
            "  inflating: ./ml-100k/ml-100k/ua.base  \n",
            "replace ./ml-100k/ml-100k/ua.test? [y]es, [n]o, [A]ll, [N]one, [r]ename: y\n",
            "  inflating: ./ml-100k/ml-100k/ua.test  \n",
            "replace ./ml-100k/ml-100k/ub.base? [y]es, [n]o, [A]ll, [N]one, [r]ename: y\n",
            "  inflating: ./ml-100k/ml-100k/ub.base  \n",
            "replace ./ml-100k/ml-100k/ub.test? [y]es, [n]o, [A]ll, [N]one, [r]ename: y\n",
            "  inflating: ./ml-100k/ml-100k/ub.test  \n"
          ]
        }
      ]
    },
    {
      "cell_type": "code",
      "source": [
        "import pandas as pd"
      ],
      "metadata": {
        "id": "6AV-uTWCld51"
      },
      "execution_count": 3,
      "outputs": []
    },
    {
      "cell_type": "code",
      "execution_count": 4,
      "metadata": {
        "id": "-QB21P_HlQFn",
        "colab": {
          "base_uri": "https://localhost:8080/"
        },
        "outputId": "df84550a-3e4c-41bf-a509-e4bac21e60f3"
      },
      "outputs": [
        {
          "output_type": "stream",
          "name": "stdout",
          "text": [
            "   user_id  item_id  rating  timestamp\n",
            "0      196      242       3  881250949\n",
            "1      186      302       3  891717742\n",
            "2       22      377       1  878887116\n",
            "3      244       51       2  880606923\n",
            "4      166      346       1  886397596\n",
            "   movie_id              title release_date  video_release_date  \\\n",
            "0         1   Toy Story (1995)  01-Jan-1995                 NaN   \n",
            "1         2   GoldenEye (1995)  01-Jan-1995                 NaN   \n",
            "2         3  Four Rooms (1995)  01-Jan-1995                 NaN   \n",
            "3         4  Get Shorty (1995)  01-Jan-1995                 NaN   \n",
            "4         5     Copycat (1995)  01-Jan-1995                 NaN   \n",
            "\n",
            "                                            IMDb_URL  genre_0  genre_1  \\\n",
            "0  http://us.imdb.com/M/title-exact?Toy%20Story%2...        0        0   \n",
            "1  http://us.imdb.com/M/title-exact?GoldenEye%20(...        0        1   \n",
            "2  http://us.imdb.com/M/title-exact?Four%20Rooms%...        0        0   \n",
            "3  http://us.imdb.com/M/title-exact?Get%20Shorty%...        0        1   \n",
            "4  http://us.imdb.com/M/title-exact?Copycat%20(1995)        0        0   \n",
            "\n",
            "   genre_2  genre_3  genre_4  ...  genre_9  genre_10  genre_11  genre_12  \\\n",
            "0        0        1        1  ...        0         0         0         0   \n",
            "1        1        0        0  ...        0         0         0         0   \n",
            "2        0        0        0  ...        0         0         0         0   \n",
            "3        0        0        0  ...        0         0         0         0   \n",
            "4        0        0        0  ...        0         0         0         0   \n",
            "\n",
            "   genre_13  genre_14  genre_15  genre_16  genre_17  genre_18  \n",
            "0         0         0         0         0         0         0  \n",
            "1         0         0         0         1         0         0  \n",
            "2         0         0         0         1         0         0  \n",
            "3         0         0         0         0         0         0  \n",
            "4         0         0         0         1         0         0  \n",
            "\n",
            "[5 rows x 24 columns]\n",
            "Number of users: 943\n",
            "Number of items: 1682\n"
          ]
        }
      ],
      "source": [
        "ratings = pd.read_csv(\"./ml-100k/ml-100k/u.data\", sep=\"\\t\", names=[\"user_id\", \"item_id\", \"rating\", \"timestamp\"])\n",
        "print(ratings.head())\n",
        "\n",
        "movies = pd.read_csv(\"./ml-100k/ml-100k/u.item\", sep=\"|\", encoding=\"latin-1\", header=None,\n",
        "                     names=[\"movie_id\", \"title\", \"release_date\", \"video_release_date\", \"IMDb_URL\"] + [f\"genre_{i}\" for i in range(19)])\n",
        "print(movies.head())\n",
        "\n",
        "print(\"Number of users:\", ratings[\"user_id\"].nunique())\n",
        "print(\"Number of items:\", ratings[\"item_id\"].nunique())"
      ]
    },
    {
      "cell_type": "code",
      "source": [
        "user_item_matrix = ratings.pivot(index=\"user_id\", columns=\"item_id\", values=\"rating\").fillna(0)\n",
        "print(user_item_matrix.head())"
      ],
      "metadata": {
        "id": "seRj9Y4flhES",
        "colab": {
          "base_uri": "https://localhost:8080/"
        },
        "outputId": "a6d110ca-abce-4bf7-ea37-25a5238828c9"
      },
      "execution_count": 5,
      "outputs": [
        {
          "output_type": "stream",
          "name": "stdout",
          "text": [
            "item_id  1     2     3     4     5     6     7     8     9     10    ...  \\\n",
            "user_id                                                              ...   \n",
            "1         5.0   3.0   4.0   3.0   3.0   5.0   4.0   1.0   5.0   3.0  ...   \n",
            "2         4.0   0.0   0.0   0.0   0.0   0.0   0.0   0.0   0.0   2.0  ...   \n",
            "3         0.0   0.0   0.0   0.0   0.0   0.0   0.0   0.0   0.0   0.0  ...   \n",
            "4         0.0   0.0   0.0   0.0   0.0   0.0   0.0   0.0   0.0   0.0  ...   \n",
            "5         4.0   3.0   0.0   0.0   0.0   0.0   0.0   0.0   0.0   0.0  ...   \n",
            "\n",
            "item_id  1673  1674  1675  1676  1677  1678  1679  1680  1681  1682  \n",
            "user_id                                                              \n",
            "1         0.0   0.0   0.0   0.0   0.0   0.0   0.0   0.0   0.0   0.0  \n",
            "2         0.0   0.0   0.0   0.0   0.0   0.0   0.0   0.0   0.0   0.0  \n",
            "3         0.0   0.0   0.0   0.0   0.0   0.0   0.0   0.0   0.0   0.0  \n",
            "4         0.0   0.0   0.0   0.0   0.0   0.0   0.0   0.0   0.0   0.0  \n",
            "5         0.0   0.0   0.0   0.0   0.0   0.0   0.0   0.0   0.0   0.0  \n",
            "\n",
            "[5 rows x 1682 columns]\n"
          ]
        }
      ]
    },
    {
      "cell_type": "code",
      "source": [
        "# 1st method is matrix factorization using svd\n",
        "# https://machinelearningmastery.com/building-a-recommender-system-from-scratch-with-matrix-factorization-in-python/\n",
        "from surprise import SVD, Dataset, Reader\n",
        "from surprise.model_selection import cross_validate"
      ],
      "metadata": {
        "id": "Tjp6lVBfl2O_"
      },
      "execution_count": 6,
      "outputs": []
    },
    {
      "cell_type": "code",
      "source": [
        "# data prepare for surprise\n",
        "reader = Reader(rating_scale=(1, 5))\n",
        "data_surprise = Dataset.load_from_df(ratings[[\"user_id\", \"item_id\", \"rating\"]], reader)\n",
        "\n",
        "# svd for matrix factorization\n",
        "svd = SVD(n_epochs=20, lr_all=0.005, reg_all=0.02)\n",
        "cross_val_results = cross_validate(svd, data_surprise, measures=[\"RMSE\", \"MAE\"], cv=5, verbose=True)"
      ],
      "metadata": {
        "id": "BMj8AdVMltiB",
        "colab": {
          "base_uri": "https://localhost:8080/"
        },
        "outputId": "aebdef3d-28f4-4b37-94d4-745668a852a6"
      },
      "execution_count": 7,
      "outputs": [
        {
          "output_type": "stream",
          "name": "stdout",
          "text": [
            "Evaluating RMSE, MAE of algorithm SVD on 5 split(s).\n",
            "\n",
            "                  Fold 1  Fold 2  Fold 3  Fold 4  Fold 5  Mean    Std     \n",
            "RMSE (testset)    0.9316  0.9435  0.9362  0.9433  0.9241  0.9357  0.0073  \n",
            "MAE (testset)     0.7367  0.7436  0.7375  0.7415  0.7279  0.7374  0.0054  \n",
            "Fit time          1.45    1.48    1.36    2.16    1.35    1.56    0.30    \n",
            "Test time         0.19    0.19    0.10    0.31    0.13    0.18    0.07    \n"
          ]
        }
      ]
    },
    {
      "cell_type": "code",
      "source": [
        "!pip install implicit"
      ],
      "metadata": {
        "id": "rjDUw_0sl8jj",
        "colab": {
          "base_uri": "https://localhost:8080/"
        },
        "outputId": "7c6b1c58-802c-43d4-b81b-ed98a12c766f"
      },
      "execution_count": 8,
      "outputs": [
        {
          "output_type": "stream",
          "name": "stdout",
          "text": [
            "Collecting implicit\n",
            "  Downloading implicit-0.7.2-cp311-cp311-manylinux2014_x86_64.whl.metadata (6.1 kB)\n",
            "Requirement already satisfied: numpy>=1.17.0 in /usr/local/lib/python3.11/dist-packages (from implicit) (1.26.4)\n",
            "Requirement already satisfied: scipy>=0.16 in /usr/local/lib/python3.11/dist-packages (from implicit) (1.14.1)\n",
            "Requirement already satisfied: tqdm>=4.27 in /usr/local/lib/python3.11/dist-packages (from implicit) (4.67.1)\n",
            "Requirement already satisfied: threadpoolctl in /usr/local/lib/python3.11/dist-packages (from implicit) (3.6.0)\n",
            "Downloading implicit-0.7.2-cp311-cp311-manylinux2014_x86_64.whl (8.9 MB)\n",
            "\u001b[2K   \u001b[90m━━━━━━━━━━━━━━━━━━━━━━━━━━━━━━━━━━━━━━━━\u001b[0m \u001b[32m8.9/8.9 MB\u001b[0m \u001b[31m87.8 MB/s\u001b[0m eta \u001b[36m0:00:00\u001b[0m\n",
            "\u001b[?25hInstalling collected packages: implicit\n",
            "Successfully installed implicit-0.7.2\n"
          ]
        }
      ]
    },
    {
      "cell_type": "code",
      "source": [
        "# 2nd method is als using implicit\n",
        "import numpy as np\n",
        "from implicit.als import AlternatingLeastSquares\n",
        "from scipy.sparse import csr_matrix"
      ],
      "metadata": {
        "id": "qc4Bf6TLl-X8"
      },
      "execution_count": 9,
      "outputs": []
    },
    {
      "cell_type": "code",
      "source": [
        "# https://benfred.github.io/implicit/\n",
        "# convert user item to sparse\n",
        "sparse_user_item = csr_matrix(user_item_matrix.values)\n",
        "\n",
        "# init and train\n",
        "als_model = AlternatingLeastSquares(factors=50, regularization=0.1, iterations=20)\n",
        "als_model.fit(sparse_user_item.T)\n",
        "\n",
        "# compute recommendations for sample user\n",
        "user_id = 1\n",
        "user_items = sparse_user_item[user_id-1]\n",
        "recommendations = als_model.recommend(user_id-1, user_items)"
      ],
      "metadata": {
        "id": "zmqu4I3Cl43T",
        "colab": {
          "base_uri": "https://localhost:8080/",
          "height": 140,
          "referenced_widgets": [
            "f45325934ee34b38a3cc31ad6d767beb",
            "07392eb8f05f40fdad96da5d33c46137",
            "5408ea837c184f96a524c93b08ebd1b8",
            "27f63f3633a44de3b384886873e3d7e7",
            "b8e2f4127c5a471d96ec2dcd9b9b2146",
            "2aac17eaa49e483f993cb1af3525f677",
            "3f48299a21ae4c8db7f1f1ecf9571d3f",
            "fed14c7c95034f308af7c097c1eefb43",
            "1290a497f47b49afa970f317e43ba0ab",
            "623cf60bfa1e4772b04af3987f39f734",
            "8d877836b9c04e239ded2df970950267"
          ]
        },
        "outputId": "c896e817-f1cd-4c28-c6ad-f8bfdf5844ce"
      },
      "execution_count": 10,
      "outputs": [
        {
          "output_type": "stream",
          "name": "stderr",
          "text": [
            "/usr/local/lib/python3.11/dist-packages/implicit/cpu/als.py:95: RuntimeWarning: OpenBLAS is configured to use 2 threads. It is highly recommended to disable its internal threadpool by setting the environment variable 'OPENBLAS_NUM_THREADS=1' or by calling 'threadpoolctl.threadpool_limits(1, \"blas\")'. Having OpenBLAS use a threadpool can lead to severe performance issues here.\n",
            "  check_blas_config()\n",
            "/usr/local/lib/python3.11/dist-packages/implicit/utils.py:164: ParameterWarning: Method expects CSR input, and was passed csc_matrix instead. Converting to CSR took 0.010719537734985352 seconds\n",
            "  warnings.warn(\n"
          ]
        },
        {
          "output_type": "display_data",
          "data": {
            "text/plain": [
              "  0%|          | 0/20 [00:00<?, ?it/s]"
            ],
            "application/vnd.jupyter.widget-view+json": {
              "version_major": 2,
              "version_minor": 0,
              "model_id": "f45325934ee34b38a3cc31ad6d767beb"
            }
          },
          "metadata": {}
        }
      ]
    },
    {
      "cell_type": "code",
      "source": [
        "print(\"Recommendations (item indices, scores):\", recommendations)"
      ],
      "metadata": {
        "id": "at0_ITHLmBw3",
        "colab": {
          "base_uri": "https://localhost:8080/"
        },
        "outputId": "6213d475-e5f0-4bbe-ac10-f40dd313f332"
      },
      "execution_count": 11,
      "outputs": [
        {
          "output_type": "stream",
          "name": "stdout",
          "text": [
            "Recommendations (item indices, scores): (array([891, 621, 619, 653, 867, 401, 636, 707, 312, 820], dtype=int32), array([1.2905084, 1.2798402, 1.2796443, 1.2756964, 1.2743874, 1.2659827,\n",
            "       1.251369 , 1.2221775, 1.2148552, 1.1994851], dtype=float32))\n"
          ]
        }
      ]
    }
  ]
}