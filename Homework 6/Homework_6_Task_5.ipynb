{
  "nbformat": 4,
  "nbformat_minor": 0,
  "metadata": {
    "colab": {
      "provenance": []
    },
    "kernelspec": {
      "name": "python3",
      "display_name": "Python 3"
    },
    "language_info": {
      "name": "python"
    },
    "widgets": {
      "application/vnd.jupyter.widget-state+json": {
        "3f0f580e2e4248d4849892e968e0b1df": {
          "model_module": "@jupyter-widgets/controls",
          "model_name": "HBoxModel",
          "model_module_version": "1.5.0",
          "state": {
            "_dom_classes": [],
            "_model_module": "@jupyter-widgets/controls",
            "_model_module_version": "1.5.0",
            "_model_name": "HBoxModel",
            "_view_count": null,
            "_view_module": "@jupyter-widgets/controls",
            "_view_module_version": "1.5.0",
            "_view_name": "HBoxView",
            "box_style": "",
            "children": [
              "IPY_MODEL_ac29758e2dd541f89c223677391c936b",
              "IPY_MODEL_2efe081aff374e458a9c2a2351f8789b",
              "IPY_MODEL_6fad00f699844c0c93a1d70361618541"
            ],
            "layout": "IPY_MODEL_4311b50a0ab147a39cc72b0a9273c1e8"
          }
        },
        "ac29758e2dd541f89c223677391c936b": {
          "model_module": "@jupyter-widgets/controls",
          "model_name": "HTMLModel",
          "model_module_version": "1.5.0",
          "state": {
            "_dom_classes": [],
            "_model_module": "@jupyter-widgets/controls",
            "_model_module_version": "1.5.0",
            "_model_name": "HTMLModel",
            "_view_count": null,
            "_view_module": "@jupyter-widgets/controls",
            "_view_module_version": "1.5.0",
            "_view_name": "HTMLView",
            "description": "",
            "description_tooltip": null,
            "layout": "IPY_MODEL_10e75d98a48f4362a8814e8cde606ae1",
            "placeholder": "​",
            "style": "IPY_MODEL_30a9dd19ffc24d1486fccfc15d485aeb",
            "value": "100%"
          }
        },
        "2efe081aff374e458a9c2a2351f8789b": {
          "model_module": "@jupyter-widgets/controls",
          "model_name": "FloatProgressModel",
          "model_module_version": "1.5.0",
          "state": {
            "_dom_classes": [],
            "_model_module": "@jupyter-widgets/controls",
            "_model_module_version": "1.5.0",
            "_model_name": "FloatProgressModel",
            "_view_count": null,
            "_view_module": "@jupyter-widgets/controls",
            "_view_module_version": "1.5.0",
            "_view_name": "ProgressView",
            "bar_style": "success",
            "description": "",
            "description_tooltip": null,
            "layout": "IPY_MODEL_4d587c453639489fac9446f07714eb8a",
            "max": 20,
            "min": 0,
            "orientation": "horizontal",
            "style": "IPY_MODEL_618f5e5fb73647819fad79df7fb7ad71",
            "value": 20
          }
        },
        "6fad00f699844c0c93a1d70361618541": {
          "model_module": "@jupyter-widgets/controls",
          "model_name": "HTMLModel",
          "model_module_version": "1.5.0",
          "state": {
            "_dom_classes": [],
            "_model_module": "@jupyter-widgets/controls",
            "_model_module_version": "1.5.0",
            "_model_name": "HTMLModel",
            "_view_count": null,
            "_view_module": "@jupyter-widgets/controls",
            "_view_module_version": "1.5.0",
            "_view_name": "HTMLView",
            "description": "",
            "description_tooltip": null,
            "layout": "IPY_MODEL_6ec0ef91622e4d4aac7c188bb96f543d",
            "placeholder": "​",
            "style": "IPY_MODEL_1f1518d4a10044a5b24e5c957783a1ea",
            "value": " 20/20 [00:05&lt;00:00,  3.52it/s]"
          }
        },
        "4311b50a0ab147a39cc72b0a9273c1e8": {
          "model_module": "@jupyter-widgets/base",
          "model_name": "LayoutModel",
          "model_module_version": "1.2.0",
          "state": {
            "_model_module": "@jupyter-widgets/base",
            "_model_module_version": "1.2.0",
            "_model_name": "LayoutModel",
            "_view_count": null,
            "_view_module": "@jupyter-widgets/base",
            "_view_module_version": "1.2.0",
            "_view_name": "LayoutView",
            "align_content": null,
            "align_items": null,
            "align_self": null,
            "border": null,
            "bottom": null,
            "display": null,
            "flex": null,
            "flex_flow": null,
            "grid_area": null,
            "grid_auto_columns": null,
            "grid_auto_flow": null,
            "grid_auto_rows": null,
            "grid_column": null,
            "grid_gap": null,
            "grid_row": null,
            "grid_template_areas": null,
            "grid_template_columns": null,
            "grid_template_rows": null,
            "height": null,
            "justify_content": null,
            "justify_items": null,
            "left": null,
            "margin": null,
            "max_height": null,
            "max_width": null,
            "min_height": null,
            "min_width": null,
            "object_fit": null,
            "object_position": null,
            "order": null,
            "overflow": null,
            "overflow_x": null,
            "overflow_y": null,
            "padding": null,
            "right": null,
            "top": null,
            "visibility": null,
            "width": null
          }
        },
        "10e75d98a48f4362a8814e8cde606ae1": {
          "model_module": "@jupyter-widgets/base",
          "model_name": "LayoutModel",
          "model_module_version": "1.2.0",
          "state": {
            "_model_module": "@jupyter-widgets/base",
            "_model_module_version": "1.2.0",
            "_model_name": "LayoutModel",
            "_view_count": null,
            "_view_module": "@jupyter-widgets/base",
            "_view_module_version": "1.2.0",
            "_view_name": "LayoutView",
            "align_content": null,
            "align_items": null,
            "align_self": null,
            "border": null,
            "bottom": null,
            "display": null,
            "flex": null,
            "flex_flow": null,
            "grid_area": null,
            "grid_auto_columns": null,
            "grid_auto_flow": null,
            "grid_auto_rows": null,
            "grid_column": null,
            "grid_gap": null,
            "grid_row": null,
            "grid_template_areas": null,
            "grid_template_columns": null,
            "grid_template_rows": null,
            "height": null,
            "justify_content": null,
            "justify_items": null,
            "left": null,
            "margin": null,
            "max_height": null,
            "max_width": null,
            "min_height": null,
            "min_width": null,
            "object_fit": null,
            "object_position": null,
            "order": null,
            "overflow": null,
            "overflow_x": null,
            "overflow_y": null,
            "padding": null,
            "right": null,
            "top": null,
            "visibility": null,
            "width": null
          }
        },
        "30a9dd19ffc24d1486fccfc15d485aeb": {
          "model_module": "@jupyter-widgets/controls",
          "model_name": "DescriptionStyleModel",
          "model_module_version": "1.5.0",
          "state": {
            "_model_module": "@jupyter-widgets/controls",
            "_model_module_version": "1.5.0",
            "_model_name": "DescriptionStyleModel",
            "_view_count": null,
            "_view_module": "@jupyter-widgets/base",
            "_view_module_version": "1.2.0",
            "_view_name": "StyleView",
            "description_width": ""
          }
        },
        "4d587c453639489fac9446f07714eb8a": {
          "model_module": "@jupyter-widgets/base",
          "model_name": "LayoutModel",
          "model_module_version": "1.2.0",
          "state": {
            "_model_module": "@jupyter-widgets/base",
            "_model_module_version": "1.2.0",
            "_model_name": "LayoutModel",
            "_view_count": null,
            "_view_module": "@jupyter-widgets/base",
            "_view_module_version": "1.2.0",
            "_view_name": "LayoutView",
            "align_content": null,
            "align_items": null,
            "align_self": null,
            "border": null,
            "bottom": null,
            "display": null,
            "flex": null,
            "flex_flow": null,
            "grid_area": null,
            "grid_auto_columns": null,
            "grid_auto_flow": null,
            "grid_auto_rows": null,
            "grid_column": null,
            "grid_gap": null,
            "grid_row": null,
            "grid_template_areas": null,
            "grid_template_columns": null,
            "grid_template_rows": null,
            "height": null,
            "justify_content": null,
            "justify_items": null,
            "left": null,
            "margin": null,
            "max_height": null,
            "max_width": null,
            "min_height": null,
            "min_width": null,
            "object_fit": null,
            "object_position": null,
            "order": null,
            "overflow": null,
            "overflow_x": null,
            "overflow_y": null,
            "padding": null,
            "right": null,
            "top": null,
            "visibility": null,
            "width": null
          }
        },
        "618f5e5fb73647819fad79df7fb7ad71": {
          "model_module": "@jupyter-widgets/controls",
          "model_name": "ProgressStyleModel",
          "model_module_version": "1.5.0",
          "state": {
            "_model_module": "@jupyter-widgets/controls",
            "_model_module_version": "1.5.0",
            "_model_name": "ProgressStyleModel",
            "_view_count": null,
            "_view_module": "@jupyter-widgets/base",
            "_view_module_version": "1.2.0",
            "_view_name": "StyleView",
            "bar_color": null,
            "description_width": ""
          }
        },
        "6ec0ef91622e4d4aac7c188bb96f543d": {
          "model_module": "@jupyter-widgets/base",
          "model_name": "LayoutModel",
          "model_module_version": "1.2.0",
          "state": {
            "_model_module": "@jupyter-widgets/base",
            "_model_module_version": "1.2.0",
            "_model_name": "LayoutModel",
            "_view_count": null,
            "_view_module": "@jupyter-widgets/base",
            "_view_module_version": "1.2.0",
            "_view_name": "LayoutView",
            "align_content": null,
            "align_items": null,
            "align_self": null,
            "border": null,
            "bottom": null,
            "display": null,
            "flex": null,
            "flex_flow": null,
            "grid_area": null,
            "grid_auto_columns": null,
            "grid_auto_flow": null,
            "grid_auto_rows": null,
            "grid_column": null,
            "grid_gap": null,
            "grid_row": null,
            "grid_template_areas": null,
            "grid_template_columns": null,
            "grid_template_rows": null,
            "height": null,
            "justify_content": null,
            "justify_items": null,
            "left": null,
            "margin": null,
            "max_height": null,
            "max_width": null,
            "min_height": null,
            "min_width": null,
            "object_fit": null,
            "object_position": null,
            "order": null,
            "overflow": null,
            "overflow_x": null,
            "overflow_y": null,
            "padding": null,
            "right": null,
            "top": null,
            "visibility": null,
            "width": null
          }
        },
        "1f1518d4a10044a5b24e5c957783a1ea": {
          "model_module": "@jupyter-widgets/controls",
          "model_name": "DescriptionStyleModel",
          "model_module_version": "1.5.0",
          "state": {
            "_model_module": "@jupyter-widgets/controls",
            "_model_module_version": "1.5.0",
            "_model_name": "DescriptionStyleModel",
            "_view_count": null,
            "_view_module": "@jupyter-widgets/base",
            "_view_module_version": "1.2.0",
            "_view_name": "StyleView",
            "description_width": ""
          }
        }
      }
    }
  },
  "cells": [
    {
      "cell_type": "code",
      "source": [
        "!wget https://files.grouplens.org/datasets/movielens/ml-100k.zip"
      ],
      "metadata": {
        "colab": {
          "base_uri": "https://localhost:8080/"
        },
        "id": "qkvyJtDdlY0c",
        "outputId": "6b95757b-78a7-41c4-a79a-32308360899b"
      },
      "execution_count": 1,
      "outputs": [
        {
          "output_type": "stream",
          "name": "stdout",
          "text": [
            "--2025-03-31 14:32:21--  https://files.grouplens.org/datasets/movielens/ml-100k.zip\n",
            "Resolving files.grouplens.org (files.grouplens.org)... 128.101.65.152\n",
            "Connecting to files.grouplens.org (files.grouplens.org)|128.101.65.152|:443... connected.\n",
            "HTTP request sent, awaiting response... 200 OK\n",
            "Length: 4924029 (4.7M) [application/zip]\n",
            "Saving to: ‘ml-100k.zip.1’\n",
            "\n",
            "ml-100k.zip.1       100%[===================>]   4.70M  15.3MB/s    in 0.3s    \n",
            "\n",
            "2025-03-31 14:32:22 (15.3 MB/s) - ‘ml-100k.zip.1’ saved [4924029/4924029]\n",
            "\n"
          ]
        }
      ]
    },
    {
      "cell_type": "code",
      "source": [
        "!unzip ml-100k.zip -d ./ml-100k"
      ],
      "metadata": {
        "colab": {
          "base_uri": "https://localhost:8080/"
        },
        "id": "1ETE32bHlatq",
        "outputId": "b2dccd77-e7ed-4728-8d3c-f75d52fb5016"
      },
      "execution_count": 2,
      "outputs": [
        {
          "output_type": "stream",
          "name": "stdout",
          "text": [
            "Archive:  ml-100k.zip\n",
            "replace ./ml-100k/ml-100k/allbut.pl? [y]es, [n]o, [A]ll, [N]one, [r]ename: y\n",
            "  inflating: ./ml-100k/ml-100k/allbut.pl  \n",
            "replace ./ml-100k/ml-100k/mku.sh? [y]es, [n]o, [A]ll, [N]one, [r]ename: y\n",
            "  inflating: ./ml-100k/ml-100k/mku.sh  \n",
            "replace ./ml-100k/ml-100k/README? [y]es, [n]o, [A]ll, [N]one, [r]ename: y\n",
            "  inflating: ./ml-100k/ml-100k/README  \n",
            "replace ./ml-100k/ml-100k/u.data? [y]es, [n]o, [A]ll, [N]one, [r]ename: y\n",
            "  inflating: ./ml-100k/ml-100k/u.data  \n",
            "replace ./ml-100k/ml-100k/u.genre? [y]es, [n]o, [A]ll, [N]one, [r]ename: y\n",
            "  inflating: ./ml-100k/ml-100k/u.genre  \n",
            "replace ./ml-100k/ml-100k/u.info? [y]es, [n]o, [A]ll, [N]one, [r]ename: y\n",
            "  inflating: ./ml-100k/ml-100k/u.info  \n",
            "replace ./ml-100k/ml-100k/u.item? [y]es, [n]o, [A]ll, [N]one, [r]ename: y\n",
            "  inflating: ./ml-100k/ml-100k/u.item  \n",
            "replace ./ml-100k/ml-100k/u.occupation? [y]es, [n]o, [A]ll, [N]one, [r]ename: y\n",
            "  inflating: ./ml-100k/ml-100k/u.occupation  \n",
            "replace ./ml-100k/ml-100k/u.user? [y]es, [n]o, [A]ll, [N]one, [r]ename: y\n",
            "  inflating: ./ml-100k/ml-100k/u.user  \n",
            "replace ./ml-100k/ml-100k/u1.base? [y]es, [n]o, [A]ll, [N]one, [r]ename: y\n",
            "  inflating: ./ml-100k/ml-100k/u1.base  \n",
            "replace ./ml-100k/ml-100k/u1.test? [y]es, [n]o, [A]ll, [N]one, [r]ename: y\n",
            "  inflating: ./ml-100k/ml-100k/u1.test  \n",
            "replace ./ml-100k/ml-100k/u2.base? [y]es, [n]o, [A]ll, [N]one, [r]ename: y\n",
            "  inflating: ./ml-100k/ml-100k/u2.base  \n",
            "replace ./ml-100k/ml-100k/u2.test? [y]es, [n]o, [A]ll, [N]one, [r]ename: y\n",
            "  inflating: ./ml-100k/ml-100k/u2.test  \n",
            "replace ./ml-100k/ml-100k/u3.base? [y]es, [n]o, [A]ll, [N]one, [r]ename: y\n",
            "  inflating: ./ml-100k/ml-100k/u3.base  \n",
            "replace ./ml-100k/ml-100k/u3.test? [y]es, [n]o, [A]ll, [N]one, [r]ename: y\n",
            "  inflating: ./ml-100k/ml-100k/u3.test  \n",
            "replace ./ml-100k/ml-100k/u4.base? [y]es, [n]o, [A]ll, [N]one, [r]ename: y\n",
            "  inflating: ./ml-100k/ml-100k/u4.base  \n",
            "replace ./ml-100k/ml-100k/u4.test? [y]es, [n]o, [A]ll, [N]one, [r]ename: y\n",
            "  inflating: ./ml-100k/ml-100k/u4.test  \n",
            "replace ./ml-100k/ml-100k/u5.base? [y]es, [n]o, [A]ll, [N]one, [r]ename: y\n",
            "  inflating: ./ml-100k/ml-100k/u5.base  \n",
            "replace ./ml-100k/ml-100k/u5.test? [y]es, [n]o, [A]ll, [N]one, [r]ename: y\n",
            "  inflating: ./ml-100k/ml-100k/u5.test  \n",
            "replace ./ml-100k/ml-100k/ua.base? [y]es, [n]o, [A]ll, [N]one, [r]ename: y\n",
            "  inflating: ./ml-100k/ml-100k/ua.base  \n",
            "replace ./ml-100k/ml-100k/ua.test? [y]es, [n]o, [A]ll, [N]one, [r]ename: y\n",
            "  inflating: ./ml-100k/ml-100k/ua.test  \n",
            "replace ./ml-100k/ml-100k/ub.base? [y]es, [n]o, [A]ll, [N]one, [r]ename: y\n",
            "  inflating: ./ml-100k/ml-100k/ub.base  \n",
            "replace ./ml-100k/ml-100k/ub.test? [y]es, [n]o, [A]ll, [N]one, [r]ename: y\n",
            "  inflating: ./ml-100k/ml-100k/ub.test  \n"
          ]
        }
      ]
    },
    {
      "cell_type": "code",
      "source": [
        "import pandas as pd"
      ],
      "metadata": {
        "id": "6AV-uTWCld51"
      },
      "execution_count": 3,
      "outputs": []
    },
    {
      "cell_type": "code",
      "execution_count": 4,
      "metadata": {
        "colab": {
          "base_uri": "https://localhost:8080/"
        },
        "id": "-QB21P_HlQFn",
        "outputId": "318b3071-bb4c-4774-c7ef-0c21591f8d58"
      },
      "outputs": [
        {
          "output_type": "stream",
          "name": "stdout",
          "text": [
            "   user_id  item_id  rating  timestamp\n",
            "0      196      242       3  881250949\n",
            "1      186      302       3  891717742\n",
            "2       22      377       1  878887116\n",
            "3      244       51       2  880606923\n",
            "4      166      346       1  886397596\n",
            "   movie_id              title release_date  video_release_date  \\\n",
            "0         1   Toy Story (1995)  01-Jan-1995                 NaN   \n",
            "1         2   GoldenEye (1995)  01-Jan-1995                 NaN   \n",
            "2         3  Four Rooms (1995)  01-Jan-1995                 NaN   \n",
            "3         4  Get Shorty (1995)  01-Jan-1995                 NaN   \n",
            "4         5     Copycat (1995)  01-Jan-1995                 NaN   \n",
            "\n",
            "                                            IMDb_URL  genre_0  genre_1  \\\n",
            "0  http://us.imdb.com/M/title-exact?Toy%20Story%2...        0        0   \n",
            "1  http://us.imdb.com/M/title-exact?GoldenEye%20(...        0        1   \n",
            "2  http://us.imdb.com/M/title-exact?Four%20Rooms%...        0        0   \n",
            "3  http://us.imdb.com/M/title-exact?Get%20Shorty%...        0        1   \n",
            "4  http://us.imdb.com/M/title-exact?Copycat%20(1995)        0        0   \n",
            "\n",
            "   genre_2  genre_3  genre_4  ...  genre_9  genre_10  genre_11  genre_12  \\\n",
            "0        0        1        1  ...        0         0         0         0   \n",
            "1        1        0        0  ...        0         0         0         0   \n",
            "2        0        0        0  ...        0         0         0         0   \n",
            "3        0        0        0  ...        0         0         0         0   \n",
            "4        0        0        0  ...        0         0         0         0   \n",
            "\n",
            "   genre_13  genre_14  genre_15  genre_16  genre_17  genre_18  \n",
            "0         0         0         0         0         0         0  \n",
            "1         0         0         0         1         0         0  \n",
            "2         0         0         0         1         0         0  \n",
            "3         0         0         0         0         0         0  \n",
            "4         0         0         0         1         0         0  \n",
            "\n",
            "[5 rows x 24 columns]\n",
            "Number of users: 943\n",
            "Number of items: 1682\n"
          ]
        }
      ],
      "source": [
        "ratings = pd.read_csv(\"./ml-100k/ml-100k/u.data\", sep=\"\\t\", names=[\"user_id\", \"item_id\", \"rating\", \"timestamp\"])\n",
        "print(ratings.head())\n",
        "\n",
        "movies = pd.read_csv(\"./ml-100k/ml-100k/u.item\", sep=\"|\", encoding=\"latin-1\", header=None,\n",
        "                     names=[\"movie_id\", \"title\", \"release_date\", \"video_release_date\", \"IMDb_URL\"] + [f\"genre_{i}\" for i in range(19)])\n",
        "print(movies.head())\n",
        "\n",
        "print(\"Number of users:\", ratings[\"user_id\"].nunique())\n",
        "print(\"Number of items:\", ratings[\"item_id\"].nunique())"
      ]
    },
    {
      "cell_type": "code",
      "source": [
        "user_item_matrix = ratings.pivot(index=\"user_id\", columns=\"item_id\", values=\"rating\").fillna(0)\n",
        "print(user_item_matrix.head())"
      ],
      "metadata": {
        "colab": {
          "base_uri": "https://localhost:8080/"
        },
        "id": "seRj9Y4flhES",
        "outputId": "e38fc0ee-0c42-4229-9404-0e3fdfe3704f"
      },
      "execution_count": 5,
      "outputs": [
        {
          "output_type": "stream",
          "name": "stdout",
          "text": [
            "item_id  1     2     3     4     5     6     7     8     9     10    ...  \\\n",
            "user_id                                                              ...   \n",
            "1         5.0   3.0   4.0   3.0   3.0   5.0   4.0   1.0   5.0   3.0  ...   \n",
            "2         4.0   0.0   0.0   0.0   0.0   0.0   0.0   0.0   0.0   2.0  ...   \n",
            "3         0.0   0.0   0.0   0.0   0.0   0.0   0.0   0.0   0.0   0.0  ...   \n",
            "4         0.0   0.0   0.0   0.0   0.0   0.0   0.0   0.0   0.0   0.0  ...   \n",
            "5         4.0   3.0   0.0   0.0   0.0   0.0   0.0   0.0   0.0   0.0  ...   \n",
            "\n",
            "item_id  1673  1674  1675  1676  1677  1678  1679  1680  1681  1682  \n",
            "user_id                                                              \n",
            "1         0.0   0.0   0.0   0.0   0.0   0.0   0.0   0.0   0.0   0.0  \n",
            "2         0.0   0.0   0.0   0.0   0.0   0.0   0.0   0.0   0.0   0.0  \n",
            "3         0.0   0.0   0.0   0.0   0.0   0.0   0.0   0.0   0.0   0.0  \n",
            "4         0.0   0.0   0.0   0.0   0.0   0.0   0.0   0.0   0.0   0.0  \n",
            "5         0.0   0.0   0.0   0.0   0.0   0.0   0.0   0.0   0.0   0.0  \n",
            "\n",
            "[5 rows x 1682 columns]\n"
          ]
        }
      ]
    },
    {
      "cell_type": "code",
      "source": [
        "!pip install numpy==1.26.4\n",
        "!pip install --no-cache-dir scikit-surprise\n",
        "\n",
        "!pip install scikit-surprise"
      ],
      "metadata": {
        "colab": {
          "base_uri": "https://localhost:8080/"
        },
        "id": "6qEPGWvdl0wr",
        "outputId": "ab2b95d5-e426-41b6-942e-afba02543426"
      },
      "execution_count": 6,
      "outputs": [
        {
          "output_type": "stream",
          "name": "stdout",
          "text": [
            "Requirement already satisfied: numpy==1.26.4 in /usr/local/lib/python3.11/dist-packages (1.26.4)\n",
            "Requirement already satisfied: scikit-surprise in /usr/local/lib/python3.11/dist-packages (1.1.4)\n",
            "Requirement already satisfied: joblib>=1.2.0 in /usr/local/lib/python3.11/dist-packages (from scikit-surprise) (1.4.2)\n",
            "Requirement already satisfied: numpy>=1.19.5 in /usr/local/lib/python3.11/dist-packages (from scikit-surprise) (1.26.4)\n",
            "Requirement already satisfied: scipy>=1.6.0 in /usr/local/lib/python3.11/dist-packages (from scikit-surprise) (1.14.1)\n",
            "Requirement already satisfied: scikit-surprise in /usr/local/lib/python3.11/dist-packages (1.1.4)\n",
            "Requirement already satisfied: joblib>=1.2.0 in /usr/local/lib/python3.11/dist-packages (from scikit-surprise) (1.4.2)\n",
            "Requirement already satisfied: numpy>=1.19.5 in /usr/local/lib/python3.11/dist-packages (from scikit-surprise) (1.26.4)\n",
            "Requirement already satisfied: scipy>=1.6.0 in /usr/local/lib/python3.11/dist-packages (from scikit-surprise) (1.14.1)\n"
          ]
        }
      ]
    },
    {
      "cell_type": "code",
      "source": [
        "from surprise import SVD, Dataset, Reader\n",
        "from surprise.model_selection import cross_validate"
      ],
      "metadata": {
        "id": "Tjp6lVBfl2O_"
      },
      "execution_count": 7,
      "outputs": []
    },
    {
      "cell_type": "code",
      "source": [
        "reader = Reader(rating_scale=(1, 5))\n",
        "data_surprise = Dataset.load_from_df(ratings[[\"user_id\", \"item_id\", \"rating\"]], reader)\n",
        "\n",
        "svd = SVD(n_epochs=20, lr_all=0.005, reg_all=0.02)\n",
        "cross_val_results = cross_validate(svd, data_surprise, measures=[\"RMSE\", \"MAE\"], cv=5, verbose=True)"
      ],
      "metadata": {
        "colab": {
          "base_uri": "https://localhost:8080/"
        },
        "id": "BMj8AdVMltiB",
        "outputId": "fa089794-3a26-4032-8e14-a1a3b1df3476"
      },
      "execution_count": 8,
      "outputs": [
        {
          "output_type": "stream",
          "name": "stdout",
          "text": [
            "Evaluating RMSE, MAE of algorithm SVD on 5 split(s).\n",
            "\n",
            "                  Fold 1  Fold 2  Fold 3  Fold 4  Fold 5  Mean    Std     \n",
            "RMSE (testset)    0.9375  0.9317  0.9366  0.9280  0.9428  0.9353  0.0051  \n",
            "MAE (testset)     0.7362  0.7349  0.7396  0.7338  0.7437  0.7376  0.0036  \n",
            "Fit time          2.78    3.13    4.72    3.68    1.45    3.15    1.08    \n",
            "Test time         0.26    0.47    0.62    0.19    0.10    0.33    0.19    \n"
          ]
        }
      ]
    },
    {
      "cell_type": "code",
      "source": [
        "!pip install implicit"
      ],
      "metadata": {
        "colab": {
          "base_uri": "https://localhost:8080/"
        },
        "id": "rjDUw_0sl8jj",
        "outputId": "7dc87abb-6b8a-46d6-d0e8-552fe068d684"
      },
      "execution_count": 9,
      "outputs": [
        {
          "output_type": "stream",
          "name": "stdout",
          "text": [
            "Collecting implicit\n",
            "  Downloading implicit-0.7.2-cp311-cp311-manylinux2014_x86_64.whl.metadata (6.1 kB)\n",
            "Requirement already satisfied: numpy>=1.17.0 in /usr/local/lib/python3.11/dist-packages (from implicit) (1.26.4)\n",
            "Requirement already satisfied: scipy>=0.16 in /usr/local/lib/python3.11/dist-packages (from implicit) (1.14.1)\n",
            "Requirement already satisfied: tqdm>=4.27 in /usr/local/lib/python3.11/dist-packages (from implicit) (4.67.1)\n",
            "Requirement already satisfied: threadpoolctl in /usr/local/lib/python3.11/dist-packages (from implicit) (3.6.0)\n",
            "Downloading implicit-0.7.2-cp311-cp311-manylinux2014_x86_64.whl (8.9 MB)\n",
            "\u001b[2K   \u001b[90m━━━━━━━━━━━━━━━━━━━━━━━━━━━━━━━━━━━━━━━━\u001b[0m \u001b[32m8.9/8.9 MB\u001b[0m \u001b[31m44.1 MB/s\u001b[0m eta \u001b[36m0:00:00\u001b[0m\n",
            "\u001b[?25hInstalling collected packages: implicit\n",
            "Successfully installed implicit-0.7.2\n"
          ]
        }
      ]
    },
    {
      "cell_type": "code",
      "source": [
        "import numpy as np\n",
        "from implicit.als import AlternatingLeastSquares\n",
        "from scipy.sparse import csr_matrix"
      ],
      "metadata": {
        "id": "qc4Bf6TLl-X8"
      },
      "execution_count": 10,
      "outputs": []
    },
    {
      "cell_type": "code",
      "source": [
        "sparse_user_item = csr_matrix(user_item_matrix.values)\n",
        "\n",
        "als_model = AlternatingLeastSquares(factors=50, regularization=0.1, iterations=20)\n",
        "als_model.fit(sparse_user_item.T)\n",
        "\n",
        "user_id = 1\n",
        "user_items = sparse_user_item[user_id-1]\n",
        "recommendations = als_model.recommend(user_id-1, user_items)\n",
        "print(\"Recommendations (item indices, scores):\", recommendations)"
      ],
      "metadata": {
        "colab": {
          "base_uri": "https://localhost:8080/",
          "height": 179,
          "referenced_widgets": [
            "3f0f580e2e4248d4849892e968e0b1df",
            "ac29758e2dd541f89c223677391c936b",
            "2efe081aff374e458a9c2a2351f8789b",
            "6fad00f699844c0c93a1d70361618541",
            "4311b50a0ab147a39cc72b0a9273c1e8",
            "10e75d98a48f4362a8814e8cde606ae1",
            "30a9dd19ffc24d1486fccfc15d485aeb",
            "4d587c453639489fac9446f07714eb8a",
            "618f5e5fb73647819fad79df7fb7ad71",
            "6ec0ef91622e4d4aac7c188bb96f543d",
            "1f1518d4a10044a5b24e5c957783a1ea"
          ]
        },
        "id": "zmqu4I3Cl43T",
        "outputId": "7e278213-a1a1-47f6-d631-7c2642ffcccc"
      },
      "execution_count": 11,
      "outputs": [
        {
          "output_type": "stream",
          "name": "stderr",
          "text": [
            "/usr/local/lib/python3.11/dist-packages/implicit/cpu/als.py:95: RuntimeWarning: OpenBLAS is configured to use 2 threads. It is highly recommended to disable its internal threadpool by setting the environment variable 'OPENBLAS_NUM_THREADS=1' or by calling 'threadpoolctl.threadpool_limits(1, \"blas\")'. Having OpenBLAS use a threadpool can lead to severe performance issues here.\n",
            "  check_blas_config()\n",
            "/usr/local/lib/python3.11/dist-packages/implicit/utils.py:164: ParameterWarning: Method expects CSR input, and was passed csc_matrix instead. Converting to CSR took 0.010445594787597656 seconds\n",
            "  warnings.warn(\n"
          ]
        },
        {
          "output_type": "display_data",
          "data": {
            "text/plain": [
              "  0%|          | 0/20 [00:00<?, ?it/s]"
            ],
            "application/vnd.jupyter.widget-view+json": {
              "version_major": 2,
              "version_minor": 0,
              "model_id": "3f0f580e2e4248d4849892e968e0b1df"
            }
          },
          "metadata": {}
        },
        {
          "output_type": "stream",
          "name": "stdout",
          "text": [
            "Recommendations (item indices, scores): (array([621, 891, 653, 707, 619, 636, 867, 837, 785, 884], dtype=int32), array([1.428712 , 1.3402815, 1.258325 , 1.251547 , 1.2448912, 1.2287047,\n",
            "       1.2014992, 1.1968485, 1.1950357, 1.1927984], dtype=float32))\n"
          ]
        }
      ]
    },
    {
      "cell_type": "code",
      "source": [],
      "metadata": {
        "id": "at0_ITHLmBw3"
      },
      "execution_count": 11,
      "outputs": []
    }
  ]
}