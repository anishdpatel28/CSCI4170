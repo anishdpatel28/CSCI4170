{
  "nbformat": 4,
  "nbformat_minor": 0,
  "metadata": {
    "colab": {
      "provenance": []
    },
    "kernelspec": {
      "name": "python3",
      "display_name": "Python 3"
    },
    "language_info": {
      "name": "python"
    }
  },
  "cells": [
    {
      "cell_type": "markdown",
      "source": [
        "Download csv from:  \n",
        "https://www.kaggle.com/datasets/mlg-ulb/creditcardfraud/data\n",
        "- Anonymized credit card transactions labeled as fraudulent or genuine"
      ],
      "metadata": {
        "id": "T5AAJw04ivkc"
      }
    },
    {
      "cell_type": "markdown",
      "source": [
        "I used mini batch gradient descent since it uses batches of 64 samples instead of the whole dataset. Using something like full batch would not be a good idea since the computational cost is exceptionally greater due to the size of observations"
      ],
      "metadata": {
        "id": "MY0BRZb3iz6x"
      }
    },
    {
      "cell_type": "code",
      "source": [
        "# upload csv\n",
        "from google.colab import files\n",
        "uploaded = files.upload()"
      ],
      "metadata": {
        "colab": {
          "base_uri": "https://localhost:8080/",
          "height": 39
        },
        "id": "8ZWVu47bjaG9",
        "outputId": "8c1c49c2-f076-4ebe-fc19-adb760cff407"
      },
      "execution_count": 25,
      "outputs": [
        {
          "output_type": "display_data",
          "data": {
            "text/plain": [
              "<IPython.core.display.HTML object>"
            ],
            "text/html": [
              "\n",
              "     <input type=\"file\" id=\"files-43c62145-3c7b-4c7f-b88e-b9d8e0fffdd2\" name=\"files[]\" multiple disabled\n",
              "        style=\"border:none\" />\n",
              "     <output id=\"result-43c62145-3c7b-4c7f-b88e-b9d8e0fffdd2\">\n",
              "      Upload widget is only available when the cell has been executed in the\n",
              "      current browser session. Please rerun this cell to enable.\n",
              "      </output>\n",
              "      <script>// Copyright 2017 Google LLC\n",
              "//\n",
              "// Licensed under the Apache License, Version 2.0 (the \"License\");\n",
              "// you may not use this file except in compliance with the License.\n",
              "// You may obtain a copy of the License at\n",
              "//\n",
              "//      http://www.apache.org/licenses/LICENSE-2.0\n",
              "//\n",
              "// Unless required by applicable law or agreed to in writing, software\n",
              "// distributed under the License is distributed on an \"AS IS\" BASIS,\n",
              "// WITHOUT WARRANTIES OR CONDITIONS OF ANY KIND, either express or implied.\n",
              "// See the License for the specific language governing permissions and\n",
              "// limitations under the License.\n",
              "\n",
              "/**\n",
              " * @fileoverview Helpers for google.colab Python module.\n",
              " */\n",
              "(function(scope) {\n",
              "function span(text, styleAttributes = {}) {\n",
              "  const element = document.createElement('span');\n",
              "  element.textContent = text;\n",
              "  for (const key of Object.keys(styleAttributes)) {\n",
              "    element.style[key] = styleAttributes[key];\n",
              "  }\n",
              "  return element;\n",
              "}\n",
              "\n",
              "// Max number of bytes which will be uploaded at a time.\n",
              "const MAX_PAYLOAD_SIZE = 100 * 1024;\n",
              "\n",
              "function _uploadFiles(inputId, outputId) {\n",
              "  const steps = uploadFilesStep(inputId, outputId);\n",
              "  const outputElement = document.getElementById(outputId);\n",
              "  // Cache steps on the outputElement to make it available for the next call\n",
              "  // to uploadFilesContinue from Python.\n",
              "  outputElement.steps = steps;\n",
              "\n",
              "  return _uploadFilesContinue(outputId);\n",
              "}\n",
              "\n",
              "// This is roughly an async generator (not supported in the browser yet),\n",
              "// where there are multiple asynchronous steps and the Python side is going\n",
              "// to poll for completion of each step.\n",
              "// This uses a Promise to block the python side on completion of each step,\n",
              "// then passes the result of the previous step as the input to the next step.\n",
              "function _uploadFilesContinue(outputId) {\n",
              "  const outputElement = document.getElementById(outputId);\n",
              "  const steps = outputElement.steps;\n",
              "\n",
              "  const next = steps.next(outputElement.lastPromiseValue);\n",
              "  return Promise.resolve(next.value.promise).then((value) => {\n",
              "    // Cache the last promise value to make it available to the next\n",
              "    // step of the generator.\n",
              "    outputElement.lastPromiseValue = value;\n",
              "    return next.value.response;\n",
              "  });\n",
              "}\n",
              "\n",
              "/**\n",
              " * Generator function which is called between each async step of the upload\n",
              " * process.\n",
              " * @param {string} inputId Element ID of the input file picker element.\n",
              " * @param {string} outputId Element ID of the output display.\n",
              " * @return {!Iterable<!Object>} Iterable of next steps.\n",
              " */\n",
              "function* uploadFilesStep(inputId, outputId) {\n",
              "  const inputElement = document.getElementById(inputId);\n",
              "  inputElement.disabled = false;\n",
              "\n",
              "  const outputElement = document.getElementById(outputId);\n",
              "  outputElement.innerHTML = '';\n",
              "\n",
              "  const pickedPromise = new Promise((resolve) => {\n",
              "    inputElement.addEventListener('change', (e) => {\n",
              "      resolve(e.target.files);\n",
              "    });\n",
              "  });\n",
              "\n",
              "  const cancel = document.createElement('button');\n",
              "  inputElement.parentElement.appendChild(cancel);\n",
              "  cancel.textContent = 'Cancel upload';\n",
              "  const cancelPromise = new Promise((resolve) => {\n",
              "    cancel.onclick = () => {\n",
              "      resolve(null);\n",
              "    };\n",
              "  });\n",
              "\n",
              "  // Wait for the user to pick the files.\n",
              "  const files = yield {\n",
              "    promise: Promise.race([pickedPromise, cancelPromise]),\n",
              "    response: {\n",
              "      action: 'starting',\n",
              "    }\n",
              "  };\n",
              "\n",
              "  cancel.remove();\n",
              "\n",
              "  // Disable the input element since further picks are not allowed.\n",
              "  inputElement.disabled = true;\n",
              "\n",
              "  if (!files) {\n",
              "    return {\n",
              "      response: {\n",
              "        action: 'complete',\n",
              "      }\n",
              "    };\n",
              "  }\n",
              "\n",
              "  for (const file of files) {\n",
              "    const li = document.createElement('li');\n",
              "    li.append(span(file.name, {fontWeight: 'bold'}));\n",
              "    li.append(span(\n",
              "        `(${file.type || 'n/a'}) - ${file.size} bytes, ` +\n",
              "        `last modified: ${\n",
              "            file.lastModifiedDate ? file.lastModifiedDate.toLocaleDateString() :\n",
              "                                    'n/a'} - `));\n",
              "    const percent = span('0% done');\n",
              "    li.appendChild(percent);\n",
              "\n",
              "    outputElement.appendChild(li);\n",
              "\n",
              "    const fileDataPromise = new Promise((resolve) => {\n",
              "      const reader = new FileReader();\n",
              "      reader.onload = (e) => {\n",
              "        resolve(e.target.result);\n",
              "      };\n",
              "      reader.readAsArrayBuffer(file);\n",
              "    });\n",
              "    // Wait for the data to be ready.\n",
              "    let fileData = yield {\n",
              "      promise: fileDataPromise,\n",
              "      response: {\n",
              "        action: 'continue',\n",
              "      }\n",
              "    };\n",
              "\n",
              "    // Use a chunked sending to avoid message size limits. See b/62115660.\n",
              "    let position = 0;\n",
              "    do {\n",
              "      const length = Math.min(fileData.byteLength - position, MAX_PAYLOAD_SIZE);\n",
              "      const chunk = new Uint8Array(fileData, position, length);\n",
              "      position += length;\n",
              "\n",
              "      const base64 = btoa(String.fromCharCode.apply(null, chunk));\n",
              "      yield {\n",
              "        response: {\n",
              "          action: 'append',\n",
              "          file: file.name,\n",
              "          data: base64,\n",
              "        },\n",
              "      };\n",
              "\n",
              "      let percentDone = fileData.byteLength === 0 ?\n",
              "          100 :\n",
              "          Math.round((position / fileData.byteLength) * 100);\n",
              "      percent.textContent = `${percentDone}% done`;\n",
              "\n",
              "    } while (position < fileData.byteLength);\n",
              "  }\n",
              "\n",
              "  // All done.\n",
              "  yield {\n",
              "    response: {\n",
              "      action: 'complete',\n",
              "    }\n",
              "  };\n",
              "}\n",
              "\n",
              "scope.google = scope.google || {};\n",
              "scope.google.colab = scope.google.colab || {};\n",
              "scope.google.colab._files = {\n",
              "  _uploadFiles,\n",
              "  _uploadFilesContinue,\n",
              "};\n",
              "})(self);\n",
              "</script> "
            ]
          },
          "metadata": {}
        }
      ]
    },
    {
      "cell_type": "code",
      "source": [
        "import numpy as np\n",
        "import pandas as pd"
      ],
      "metadata": {
        "id": "dNSH4KfCi5Sh"
      },
      "execution_count": 22,
      "outputs": []
    },
    {
      "cell_type": "code",
      "source": [
        "class NeuralNetwork:\n",
        "    def __init__(self, input_size, hidden_size, output_size, learning_rate=0.01):\n",
        "        np.random.seed(42)\n",
        "        self.input_size = input_size\n",
        "        self.hidden_size = hidden_size\n",
        "        self.output_size = output_size\n",
        "        self.learning_rate = learning_rate\n",
        "\n",
        "        # init weights and biases\n",
        "        self.W1 = np.random.randn(self.hidden_size, self.input_size) * 0.01\n",
        "        self.b1 = np.zeros((self.hidden_size, 1))\n",
        "        self.W2 = np.random.randn(self.output_size, self.hidden_size) * 0.01\n",
        "        self.b2 = np.zeros((self.output_size, 1))\n",
        "\n",
        "    def sigmoid(self, z):\n",
        "        return 1 / (1 + np.exp(-z))\n",
        "\n",
        "    def sigmoid_derivative(self, z):\n",
        "        return self.sigmoid(z) * (1 - self.sigmoid(z))\n",
        "\n",
        "    def forward_propagation(self, X):\n",
        "        self.Z1 = np.dot(self.W1, X) + self.b1\n",
        "        self.A1 = self.sigmoid(self.Z1)\n",
        "        self.Z2 = np.dot(self.W2, self.A1) + self.b2\n",
        "        self.A2 = self.sigmoid(self.Z2)\n",
        "        return self.A2\n",
        "\n",
        "    def calc_cost(self, Y_hat, Y):\n",
        "        m = Y.shape[1]\n",
        "        return -np.sum(Y * np.log(Y_hat) + (1 - Y) * np.log(1 - Y_hat)) / m\n",
        "\n",
        "    def backward_propagation(self, X, Y):\n",
        "        m = X.shape[1]\n",
        "        dZ2 = self.A2 - Y\n",
        "        dW2 = np.dot(dZ2, self.A1.T) / m\n",
        "        db2 = np.sum(dZ2, axis=1, keepdims=True) / m\n",
        "\n",
        "        dZ1 = np.dot(self.W2.T, dZ2) * self.sigmoid_derivative(self.Z1)\n",
        "        dW1 = np.dot(dZ1, X.T) / m\n",
        "        db1 = np.sum(dZ1, axis=1, keepdims=True) / m\n",
        "\n",
        "        # update params\n",
        "        self.W1 -= self.learning_rate * dW1\n",
        "        self.b1 -= self.learning_rate * db1\n",
        "        self.W2 -= self.learning_rate * dW2\n",
        "        self.b2 -= self.learning_rate * db2\n",
        "\n",
        "    def train(self, X, Y, epochs=1000, batch_size=64):\n",
        "        m = X.shape[1]\n",
        "        for epoch in range(epochs):\n",
        "            for i in range(0, m, batch_size):\n",
        "                X_batch = X[:, i:i+batch_size]\n",
        "                Y_batch = Y[:, i:i+batch_size]\n",
        "\n",
        "                Y_hat = self.forward_propagation(X_batch)\n",
        "                self.backward_propagation(X_batch, Y_batch)\n",
        "\n",
        "            if epoch % 100 == 0:\n",
        "                cost = self.calc_cost(self.forward_propagation(X), Y)\n",
        "                print(f\"Epoch {epoch}, Cost: {cost}\")\n",
        "\n",
        "    def predict(self, X):\n",
        "        Y_hat = self.forward_propagation(X)\n",
        "        return (Y_hat > 0.5).astype(int)"
      ],
      "metadata": {
        "id": "aCZHQs_Ri7uz"
      },
      "execution_count": 23,
      "outputs": []
    },
    {
      "cell_type": "markdown",
      "source": [
        "Normalized Amount feature and removed irrelevant columns for faster convergence"
      ],
      "metadata": {
        "id": "GeJp65QyjJk9"
      }
    },
    {
      "cell_type": "code",
      "source": [
        "data = pd.read_csv(\"creditcard.csv\")\n",
        "data[\"normalized_amount\"] = (data[\"Amount\"] - data[\"Amount\"].mean()) / data[\"Amount\"].std()\n",
        "data = data.drop(columns=[\"Time\", \"Amount\"]) # Drop unnecessary columns\n",
        "\n",
        "# features and labels\n",
        "X = data.drop(columns=[\"Class\"]).values.T\n",
        "Y = data[\"Class\"].values.reshape(1, -1)\n",
        "\n",
        "# train\n",
        "nn = NeuralNetwork(input_size=X.shape[0], hidden_size=16, output_size=1, learning_rate=0.01)\n",
        "nn.train(X, Y, epochs=1000, batch_size=64)\n",
        "\n",
        "# test\n",
        "y_pred = nn.predict(X)\n",
        "accuracy = np.mean(y_pred == Y)\n",
        "print(f\"Accuracy: {accuracy * 100}%\")"
      ],
      "metadata": {
        "colab": {
          "base_uri": "https://localhost:8080/"
        },
        "id": "ecOlDyQfjMRb",
        "outputId": "560cb78f-3824-41ea-dfea-e00f6e248871"
      },
      "execution_count": 9,
      "outputs": [
        {
          "output_type": "stream",
          "name": "stdout",
          "text": [
            "Epoch 0, Cost: 0.010059005683291582\n",
            "Epoch 100, Cost: 0.003125603705055983\n",
            "Epoch 200, Cost: 0.002933489430289504\n",
            "Epoch 300, Cost: 0.002840752665224149\n",
            "Epoch 400, Cost: 0.0027966355811873196\n",
            "Epoch 500, Cost: 0.002765029827188171\n",
            "Epoch 600, Cost: 0.0027373481512771927\n",
            "Epoch 700, Cost: 0.0027121637688535473\n",
            "Epoch 800, Cost: 0.0026890145123767005\n",
            "Epoch 900, Cost: 0.0026666176051912014\n",
            "Accuracy: 99.94452383543944%\n"
          ]
        }
      ]
    },
    {
      "cell_type": "markdown",
      "source": [
        "understnading tensors for pytorch:  \n",
        "https://pytorch.org/tutorials/beginner/basics/tensorqs_tutorial.html\n",
        "\n",
        "\n",
        "understanding PyTorch's autograd:  \n",
        "https://pytorch.org/tutorials/beginner/basics/autogradqs_tutorial.html\n",
        "\n",
        "building the network:  \n",
        "https://pytorch.org/tutorials/beginner/basics/buildmodel_tutorial.html\n",
        "\n",
        "choosing an optimizer:  \n",
        "https://pytorch.org/tutorials/beginner/basics/optimization_tutorial.html\n",
        "\n",
        "how to handle large datasets:  \n",
        "https://pytorch.org/tutorials/beginner/basics/data_tutorial.html"
      ],
      "metadata": {
        "id": "a_KzfT1DuSZt"
      }
    },
    {
      "cell_type": "code",
      "source": [
        "import torch\n",
        "import torch.nn as nn\n",
        "import torch.optim as optim\n",
        "from sklearn.model_selection import train_test_split\n",
        "from sklearn.preprocessing import StandardScaler"
      ],
      "metadata": {
        "id": "O2cdNt4zwKCb"
      },
      "execution_count": 13,
      "outputs": []
    },
    {
      "cell_type": "code",
      "source": [
        "data = pd.read_csv(\"creditcard.csv\")\n",
        "\n",
        "# normalize Amount\n",
        "scaler = StandardScaler()\n",
        "data[\"normalized_amount\"] = scaler.fit_transform(data[\"Amount\"].values.reshape(-1, 1))\n",
        "data.drop(columns=[\"Time\", \"Amount\"], inplace=True)\n",
        "\n",
        "X = data.drop(columns=[\"Class\"]).values\n",
        "Y = data[\"Class\"].values"
      ],
      "metadata": {
        "id": "ke-yE7btwXDz"
      },
      "execution_count": 14,
      "outputs": []
    },
    {
      "cell_type": "code",
      "source": [
        "# train-dev-test split\n",
        "X_train, X_temp, Y_train, Y_temp = train_test_split(X, Y, test_size=0.2, random_state=42)\n",
        "X_dev, X_test, Y_dev, Y_test = train_test_split(X_temp, Y_temp, test_size=0.5, random_state=42)"
      ],
      "metadata": {
        "id": "pszkNbUBw6jH"
      },
      "execution_count": 15,
      "outputs": []
    },
    {
      "cell_type": "code",
      "source": [
        "# convert to tensors\n",
        "\n",
        "X_train_tensor = torch.tensor(X_train, dtype=torch.float32)\n",
        "Y_train_tensor = torch.tensor(Y_train, dtype=torch.float32).view(-1, 1)\n",
        "\n",
        "X_dev_tensor = torch.tensor(X_dev, dtype=torch.float32)\n",
        "Y_dev_tensor = torch.tensor(Y_dev, dtype=torch.float32).view(-1, 1)\n",
        "\n",
        "X_test_tensor = torch.tensor(X_test, dtype=torch.float32)\n",
        "Y_test_tensor = torch.tensor(Y_test, dtype=torch.float32).view(-1, 1)"
      ],
      "metadata": {
        "id": "rJcLpm26w_Ud"
      },
      "execution_count": 16,
      "outputs": []
    },
    {
      "cell_type": "code",
      "source": [
        "class NeuralNetwork(nn.Module):\n",
        "    def __init__(self, input_size, hidden_size, output_size):\n",
        "        super(NeuralNetwork, self).__init__()\n",
        "        self.fc1 = nn.Linear(input_size, hidden_size)\n",
        "        self.relu = nn.ReLU()\n",
        "        self.fc2 = nn.Linear(hidden_size, output_size)\n",
        "        self.sigmoid = nn.Sigmoid()\n",
        "\n",
        "    def forward(self, x):\n",
        "        x = self.fc1(x)\n",
        "        x = self.relu(x)\n",
        "        x = self.fc2(x)\n",
        "        x = self.sigmoid(x)\n",
        "        return x"
      ],
      "metadata": {
        "id": "551VyhiexDLJ"
      },
      "execution_count": 17,
      "outputs": []
    },
    {
      "cell_type": "code",
      "source": [
        "input_size = X_train.shape[1]\n",
        "hidden_size = 16\n",
        "output_size = 1\n",
        "\n",
        "model = NeuralNetwork(input_size, hidden_size, output_size)"
      ],
      "metadata": {
        "id": "P6vdrwoyxHAH"
      },
      "execution_count": 18,
      "outputs": []
    },
    {
      "cell_type": "code",
      "source": [
        "# loss and optimizer\n",
        "criterion = nn.BCELoss()\n",
        "optimizer = optim.Adam(model.parameters(), lr=0.001)"
      ],
      "metadata": {
        "id": "HlZTNXYhxNO_"
      },
      "execution_count": 19,
      "outputs": []
    },
    {
      "cell_type": "code",
      "source": [
        "# training\n",
        "epochs = 100\n",
        "batch_size = 64\n",
        "\n",
        "for epoch in range(epochs):\n",
        "    permutation = torch.randperm(X_train_tensor.size(0))\n",
        "\n",
        "    for i in range(0, X_train_tensor.size(0), batch_size):\n",
        "        indices = permutation[i:i + batch_size]\n",
        "        X_batch, Y_batch = X_train_tensor[indices], Y_train_tensor[indices]\n",
        "\n",
        "        optimizer.zero_grad()\n",
        "        outputs = model(X_batch)\n",
        "        loss = criterion(outputs, Y_batch)\n",
        "        loss.backward()\n",
        "        optimizer.step()\n",
        "\n",
        "    if epoch % 10 == 0:\n",
        "        print(f'Epoch {epoch}, Loss: {loss.item()}')"
      ],
      "metadata": {
        "colab": {
          "base_uri": "https://localhost:8080/"
        },
        "id": "j32GYvTrw0i_",
        "outputId": "60b5fe0d-f8dc-48bf-9561-5266691309b1"
      },
      "execution_count": 20,
      "outputs": [
        {
          "output_type": "stream",
          "name": "stdout",
          "text": [
            "Epoch 0, Loss: 0.0009942662436515093\n",
            "Epoch 10, Loss: 6.954128184588626e-05\n",
            "Epoch 20, Loss: 9.2010423031752e-06\n",
            "Epoch 30, Loss: 0.00016459383186884224\n",
            "Epoch 40, Loss: 9.878210403257981e-05\n",
            "Epoch 50, Loss: 1.6216266885749064e-05\n",
            "Epoch 60, Loss: 3.6888632166665047e-06\n",
            "Epoch 70, Loss: 9.368735845782794e-06\n",
            "Epoch 80, Loss: 2.6807897484104615e-06\n",
            "Epoch 90, Loss: 5.668979611073155e-06\n"
          ]
        }
      ]
    },
    {
      "cell_type": "code",
      "source": [
        "# eval on test set\n",
        "with torch.no_grad():\n",
        "    y_pred = model(X_test_tensor)\n",
        "    y_pred = (y_pred > 0.5).float()\n",
        "    accuracy = (y_pred == Y_test_tensor).float().mean()\n",
        "    print(f'Test Accuracy: {accuracy.item() * 100}%')"
      ],
      "metadata": {
        "colab": {
          "base_uri": "https://localhost:8080/"
        },
        "id": "xj8F0jTMxPIu",
        "outputId": "c505312e-6c21-4f3a-fd00-8ac618e30065"
      },
      "execution_count": 24,
      "outputs": [
        {
          "output_type": "stream",
          "name": "stdout",
          "text": [
            "Test Accuracy: 99.92275834083557%\n"
          ]
        }
      ]
    },
    {
      "cell_type": "markdown",
      "source": [
        "I chose the hyperparameters by looking at the model complexity, training stability, and generalization performance. I tested using different learning rates and batch sizes, and with activation functions to find the best balance between convergence, speed, and accuracy. I also used L2 regularization so there will not be overfitting. I also used the Adam optimizer since it tweaks the learning rate during the training."
      ],
      "metadata": {
        "id": "5clLpbugCR2H"
      }
    }
  ]
}